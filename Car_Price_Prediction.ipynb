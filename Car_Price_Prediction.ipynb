{
 "cells": [
  {
   "cell_type": "markdown",
   "metadata": {
    "colab_type": "text",
    "id": "UDu7r72bNVkZ"
   },
   "source": [
    "# Machine Learning Capstone Project\n",
    "## Car Price Prediction\n",
    "\n",
    "#### Problem Statement:\n",
    "\n",
    "Predict the price of a car based on various parameters like car make, car model, car year engine cylinder, driven wheels, market category etc. The company wants to know —\n",
    "\n",
    "\n",
    "- which variables are significant in predicting the price of a car\n",
    "- how well those variables describe the price of a car\n",
    "\n",
    "**So interpretation is important!**"
   ]
  },
  {
   "cell_type": "markdown",
   "metadata": {
    "colab_type": "text",
    "id": "II5mzEOjNVkh"
   },
   "source": [
    "## Step 1: Reading and Understanding the Data\n",
    "\n",
    "Let us first import NumPy, Pandas, matplotlib and seaborn and read the car dataset"
   ]
  },
  {
   "cell_type": "code",
   "execution_count": 0,
   "metadata": {
    "colab": {},
    "colab_type": "code",
    "id": "UGf76ex4NVkl"
   },
   "outputs": [],
   "source": [
    "# Importing all required packages\n",
    "import numpy as np\n",
    "import pandas as pd\n",
    "import matplotlib.pyplot as plt\n",
    "import seaborn as sns\n",
    "%matplotlib inline"
   ]
  },
  {
   "cell_type": "code",
   "execution_count": 0,
   "metadata": {
    "colab": {},
    "colab_type": "code",
    "id": "DrebrLJTNVk2"
   },
   "outputs": [],
   "source": [
    "# Supress Warnings\n",
    "\n",
    "import warnings\n",
    "warnings.filterwarnings('ignore')"
   ]
  },
  {
   "cell_type": "code",
   "execution_count": 0,
   "metadata": {
    "colab": {},
    "colab_type": "code",
    "id": "EG83NDKeNVlB"
   },
   "outputs": [],
   "source": [
    "# Importing carprice.csv\n",
    "car_price_df = pd.read_csv('data/data.csv')"
   ]
  },
  {
   "cell_type": "code",
   "execution_count": 0,
   "metadata": {
    "colab": {},
    "colab_type": "code",
    "id": "L0L4OosANVlN"
   },
   "outputs": [],
   "source": [
    "# Getting categorical variable and splitting the and choosing only one of them to reduce the number of columns after converting them to numerical\n",
    "car_price_df['Market Category'] = car_price_df['Market Category'].str.split(',', expand = True)[0]\n",
    "car_price_df['Engine Fuel Type'] = car_price_df['Engine Fuel Type'].str.split(' ', expand = True)[0]\n",
    "car_price_df['Driven_Wheels'] = car_price_df['Driven_Wheels'].str.split(' ', expand = True)[0]\n",
    "car_price_df['Vehicle Style'] = car_price_df['Vehicle Style'].str.split(' ', expand = True)[0]\n",
    "# Model is not giving any value addition to prediction so dropping it\n",
    "car_price_df.drop('Model', inplace=True,axis=1)"
   ]
  },
  {
   "cell_type": "code",
   "execution_count": 0,
   "metadata": {
    "colab": {},
    "colab_type": "code",
    "id": "oJZHuKmZNVlX",
    "outputId": "00d3e3f9-7498-435a-af10-c095b9a41032"
   },
   "outputs": [
    {
     "data": {
      "text/html": [
       "<div>\n",
       "<style scoped>\n",
       "    .dataframe tbody tr th:only-of-type {\n",
       "        vertical-align: middle;\n",
       "    }\n",
       "\n",
       "    .dataframe tbody tr th {\n",
       "        vertical-align: top;\n",
       "    }\n",
       "\n",
       "    .dataframe thead th {\n",
       "        text-align: right;\n",
       "    }\n",
       "</style>\n",
       "<table border=\"1\" class=\"dataframe\">\n",
       "  <thead>\n",
       "    <tr style=\"text-align: right;\">\n",
       "      <th></th>\n",
       "      <th>Make</th>\n",
       "      <th>Year</th>\n",
       "      <th>Engine Fuel Type</th>\n",
       "      <th>Engine HP</th>\n",
       "      <th>Engine Cylinders</th>\n",
       "      <th>Transmission Type</th>\n",
       "      <th>Driven_Wheels</th>\n",
       "      <th>Number of Doors</th>\n",
       "      <th>Market Category</th>\n",
       "      <th>Vehicle Size</th>\n",
       "      <th>Vehicle Style</th>\n",
       "      <th>highway MPG</th>\n",
       "      <th>city mpg</th>\n",
       "      <th>Popularity</th>\n",
       "      <th>MSRP</th>\n",
       "    </tr>\n",
       "  </thead>\n",
       "  <tbody>\n",
       "    <tr>\n",
       "      <th>0</th>\n",
       "      <td>BMW</td>\n",
       "      <td>2011</td>\n",
       "      <td>premium</td>\n",
       "      <td>335.0</td>\n",
       "      <td>6.0</td>\n",
       "      <td>MANUAL</td>\n",
       "      <td>rear</td>\n",
       "      <td>2.0</td>\n",
       "      <td>Factory Tuner</td>\n",
       "      <td>Compact</td>\n",
       "      <td>Coupe</td>\n",
       "      <td>26</td>\n",
       "      <td>19</td>\n",
       "      <td>3916</td>\n",
       "      <td>46135</td>\n",
       "    </tr>\n",
       "    <tr>\n",
       "      <th>1</th>\n",
       "      <td>BMW</td>\n",
       "      <td>2011</td>\n",
       "      <td>premium</td>\n",
       "      <td>300.0</td>\n",
       "      <td>6.0</td>\n",
       "      <td>MANUAL</td>\n",
       "      <td>rear</td>\n",
       "      <td>2.0</td>\n",
       "      <td>Luxury</td>\n",
       "      <td>Compact</td>\n",
       "      <td>Convertible</td>\n",
       "      <td>28</td>\n",
       "      <td>19</td>\n",
       "      <td>3916</td>\n",
       "      <td>40650</td>\n",
       "    </tr>\n",
       "    <tr>\n",
       "      <th>2</th>\n",
       "      <td>BMW</td>\n",
       "      <td>2011</td>\n",
       "      <td>premium</td>\n",
       "      <td>300.0</td>\n",
       "      <td>6.0</td>\n",
       "      <td>MANUAL</td>\n",
       "      <td>rear</td>\n",
       "      <td>2.0</td>\n",
       "      <td>Luxury</td>\n",
       "      <td>Compact</td>\n",
       "      <td>Coupe</td>\n",
       "      <td>28</td>\n",
       "      <td>20</td>\n",
       "      <td>3916</td>\n",
       "      <td>36350</td>\n",
       "    </tr>\n",
       "    <tr>\n",
       "      <th>3</th>\n",
       "      <td>BMW</td>\n",
       "      <td>2011</td>\n",
       "      <td>premium</td>\n",
       "      <td>230.0</td>\n",
       "      <td>6.0</td>\n",
       "      <td>MANUAL</td>\n",
       "      <td>rear</td>\n",
       "      <td>2.0</td>\n",
       "      <td>Luxury</td>\n",
       "      <td>Compact</td>\n",
       "      <td>Coupe</td>\n",
       "      <td>28</td>\n",
       "      <td>18</td>\n",
       "      <td>3916</td>\n",
       "      <td>29450</td>\n",
       "    </tr>\n",
       "    <tr>\n",
       "      <th>4</th>\n",
       "      <td>BMW</td>\n",
       "      <td>2011</td>\n",
       "      <td>premium</td>\n",
       "      <td>230.0</td>\n",
       "      <td>6.0</td>\n",
       "      <td>MANUAL</td>\n",
       "      <td>rear</td>\n",
       "      <td>2.0</td>\n",
       "      <td>Luxury</td>\n",
       "      <td>Compact</td>\n",
       "      <td>Convertible</td>\n",
       "      <td>28</td>\n",
       "      <td>18</td>\n",
       "      <td>3916</td>\n",
       "      <td>34500</td>\n",
       "    </tr>\n",
       "  </tbody>\n",
       "</table>\n",
       "</div>"
      ],
      "text/plain": [
       "  Make  Year Engine Fuel Type  Engine HP  Engine Cylinders Transmission Type  \\\n",
       "0  BMW  2011          premium      335.0               6.0            MANUAL   \n",
       "1  BMW  2011          premium      300.0               6.0            MANUAL   \n",
       "2  BMW  2011          premium      300.0               6.0            MANUAL   \n",
       "3  BMW  2011          premium      230.0               6.0            MANUAL   \n",
       "4  BMW  2011          premium      230.0               6.0            MANUAL   \n",
       "\n",
       "  Driven_Wheels  Number of Doors Market Category Vehicle Size Vehicle Style  \\\n",
       "0          rear              2.0   Factory Tuner      Compact         Coupe   \n",
       "1          rear              2.0          Luxury      Compact   Convertible   \n",
       "2          rear              2.0          Luxury      Compact         Coupe   \n",
       "3          rear              2.0          Luxury      Compact         Coupe   \n",
       "4          rear              2.0          Luxury      Compact   Convertible   \n",
       "\n",
       "   highway MPG  city mpg  Popularity   MSRP  \n",
       "0           26        19        3916  46135  \n",
       "1           28        19        3916  40650  \n",
       "2           28        20        3916  36350  \n",
       "3           28        18        3916  29450  \n",
       "4           28        18        3916  34500  "
      ]
     },
     "execution_count": 5,
     "metadata": {
      "tags": []
     },
     "output_type": "execute_result"
    }
   ],
   "source": [
    "# Check the head of the dataset\n",
    "car_price_df.head()"
   ]
  },
  {
   "cell_type": "code",
   "execution_count": 0,
   "metadata": {
    "colab": {},
    "colab_type": "code",
    "id": "DvdQSQMqNVlk",
    "outputId": "e1f0f019-2515-46f9-b240-1afdd947c6af"
   },
   "outputs": [
    {
     "data": {
      "text/plain": [
       "(11914, 15)"
      ]
     },
     "execution_count": 6,
     "metadata": {
      "tags": []
     },
     "output_type": "execute_result"
    }
   ],
   "source": [
    "# checking shape of the dataframe\n",
    "car_price_df.shape"
   ]
  },
  {
   "cell_type": "code",
   "execution_count": 0,
   "metadata": {
    "colab": {},
    "colab_type": "code",
    "id": "e7Q7d0IzNVlu",
    "outputId": "67ef0523-f488-4ff8-cc03-4b2e04f98622"
   },
   "outputs": [
    {
     "name": "stdout",
     "output_type": "stream",
     "text": [
      "<class 'pandas.core.frame.DataFrame'>\n",
      "RangeIndex: 11914 entries, 0 to 11913\n",
      "Data columns (total 15 columns):\n",
      "Make                 11914 non-null object\n",
      "Year                 11914 non-null int64\n",
      "Engine Fuel Type     11911 non-null object\n",
      "Engine HP            11845 non-null float64\n",
      "Engine Cylinders     11884 non-null float64\n",
      "Transmission Type    11914 non-null object\n",
      "Driven_Wheels        11914 non-null object\n",
      "Number of Doors      11908 non-null float64\n",
      "Market Category      8172 non-null object\n",
      "Vehicle Size         11914 non-null object\n",
      "Vehicle Style        11914 non-null object\n",
      "highway MPG          11914 non-null int64\n",
      "city mpg             11914 non-null int64\n",
      "Popularity           11914 non-null int64\n",
      "MSRP                 11914 non-null int64\n",
      "dtypes: float64(3), int64(5), object(7)\n",
      "memory usage: 1.4+ MB\n"
     ]
    }
   ],
   "source": [
    "# checking values for null\n",
    "car_price_df.info()"
   ]
  },
  {
   "cell_type": "code",
   "execution_count": 0,
   "metadata": {
    "colab": {},
    "colab_type": "code",
    "id": "Qr9DBT5LNVl4"
   },
   "outputs": [],
   "source": [
    "# removing all the rows from DF which has null values\n",
    "CarPriceCleanDf=car_price_df.dropna()"
   ]
  },
  {
   "cell_type": "code",
   "execution_count": 0,
   "metadata": {
    "colab": {},
    "colab_type": "code",
    "id": "ivRQmfy7NVmC",
    "outputId": "81188761-f156-49e5-f0ba-c142824f954d"
   },
   "outputs": [
    {
     "name": "stdout",
     "output_type": "stream",
     "text": [
      "<class 'pandas.core.frame.DataFrame'>\n",
      "Int64Index: 8084 entries, 0 to 11913\n",
      "Data columns (total 15 columns):\n",
      "Make                 8084 non-null object\n",
      "Year                 8084 non-null int64\n",
      "Engine Fuel Type     8084 non-null object\n",
      "Engine HP            8084 non-null float64\n",
      "Engine Cylinders     8084 non-null float64\n",
      "Transmission Type    8084 non-null object\n",
      "Driven_Wheels        8084 non-null object\n",
      "Number of Doors      8084 non-null float64\n",
      "Market Category      8084 non-null object\n",
      "Vehicle Size         8084 non-null object\n",
      "Vehicle Style        8084 non-null object\n",
      "highway MPG          8084 non-null int64\n",
      "city mpg             8084 non-null int64\n",
      "Popularity           8084 non-null int64\n",
      "MSRP                 8084 non-null int64\n",
      "dtypes: float64(3), int64(5), object(7)\n",
      "memory usage: 1010.5+ KB\n"
     ]
    }
   ],
   "source": [
    "# checking null values after removing them\n",
    "CarPriceCleanDf.info()"
   ]
  },
  {
   "cell_type": "code",
   "execution_count": 0,
   "metadata": {
    "colab": {},
    "colab_type": "code",
    "id": "Kl8pojgTNVmY",
    "outputId": "c451cfdf-7179-4123-dd8f-8738388423e8"
   },
   "outputs": [
    {
     "data": {
      "text/html": [
       "<div>\n",
       "<style scoped>\n",
       "    .dataframe tbody tr th:only-of-type {\n",
       "        vertical-align: middle;\n",
       "    }\n",
       "\n",
       "    .dataframe tbody tr th {\n",
       "        vertical-align: top;\n",
       "    }\n",
       "\n",
       "    .dataframe thead th {\n",
       "        text-align: right;\n",
       "    }\n",
       "</style>\n",
       "<table border=\"1\" class=\"dataframe\">\n",
       "  <thead>\n",
       "    <tr style=\"text-align: right;\">\n",
       "      <th></th>\n",
       "      <th>Year</th>\n",
       "      <th>Engine HP</th>\n",
       "      <th>Engine Cylinders</th>\n",
       "      <th>Number of Doors</th>\n",
       "      <th>highway MPG</th>\n",
       "      <th>city mpg</th>\n",
       "      <th>Popularity</th>\n",
       "      <th>MSRP</th>\n",
       "    </tr>\n",
       "  </thead>\n",
       "  <tbody>\n",
       "    <tr>\n",
       "      <th>count</th>\n",
       "      <td>8084.000000</td>\n",
       "      <td>8084.000000</td>\n",
       "      <td>8084.000000</td>\n",
       "      <td>8084.000000</td>\n",
       "      <td>8084.000000</td>\n",
       "      <td>8084.000000</td>\n",
       "      <td>8084.000000</td>\n",
       "      <td>8.084000e+03</td>\n",
       "    </tr>\n",
       "    <tr>\n",
       "      <th>mean</th>\n",
       "      <td>2012.058634</td>\n",
       "      <td>274.642751</td>\n",
       "      <td>5.778080</td>\n",
       "      <td>3.414151</td>\n",
       "      <td>26.650915</td>\n",
       "      <td>19.553686</td>\n",
       "      <td>1499.397823</td>\n",
       "      <td>5.007267e+04</td>\n",
       "    </tr>\n",
       "    <tr>\n",
       "      <th>std</th>\n",
       "      <td>6.317981</td>\n",
       "      <td>115.003475</td>\n",
       "      <td>1.886088</td>\n",
       "      <td>0.898087</td>\n",
       "      <td>7.720473</td>\n",
       "      <td>7.159964</td>\n",
       "      <td>1413.855615</td>\n",
       "      <td>7.029313e+04</td>\n",
       "    </tr>\n",
       "    <tr>\n",
       "      <th>min</th>\n",
       "      <td>1990.000000</td>\n",
       "      <td>55.000000</td>\n",
       "      <td>0.000000</td>\n",
       "      <td>2.000000</td>\n",
       "      <td>12.000000</td>\n",
       "      <td>7.000000</td>\n",
       "      <td>2.000000</td>\n",
       "      <td>2.000000e+03</td>\n",
       "    </tr>\n",
       "    <tr>\n",
       "      <th>25%</th>\n",
       "      <td>2010.000000</td>\n",
       "      <td>192.000000</td>\n",
       "      <td>4.000000</td>\n",
       "      <td>2.000000</td>\n",
       "      <td>22.000000</td>\n",
       "      <td>16.000000</td>\n",
       "      <td>549.000000</td>\n",
       "      <td>2.591875e+04</td>\n",
       "    </tr>\n",
       "    <tr>\n",
       "      <th>50%</th>\n",
       "      <td>2015.000000</td>\n",
       "      <td>264.000000</td>\n",
       "      <td>6.000000</td>\n",
       "      <td>4.000000</td>\n",
       "      <td>26.000000</td>\n",
       "      <td>18.000000</td>\n",
       "      <td>1013.000000</td>\n",
       "      <td>3.500500e+04</td>\n",
       "    </tr>\n",
       "    <tr>\n",
       "      <th>75%</th>\n",
       "      <td>2016.000000</td>\n",
       "      <td>320.000000</td>\n",
       "      <td>6.000000</td>\n",
       "      <td>4.000000</td>\n",
       "      <td>30.000000</td>\n",
       "      <td>22.000000</td>\n",
       "      <td>2009.000000</td>\n",
       "      <td>4.872250e+04</td>\n",
       "    </tr>\n",
       "    <tr>\n",
       "      <th>max</th>\n",
       "      <td>2017.000000</td>\n",
       "      <td>1001.000000</td>\n",
       "      <td>16.000000</td>\n",
       "      <td>4.000000</td>\n",
       "      <td>354.000000</td>\n",
       "      <td>137.000000</td>\n",
       "      <td>5657.000000</td>\n",
       "      <td>2.065902e+06</td>\n",
       "    </tr>\n",
       "  </tbody>\n",
       "</table>\n",
       "</div>"
      ],
      "text/plain": [
       "              Year    Engine HP  Engine Cylinders  Number of Doors  \\\n",
       "count  8084.000000  8084.000000       8084.000000      8084.000000   \n",
       "mean   2012.058634   274.642751          5.778080         3.414151   \n",
       "std       6.317981   115.003475          1.886088         0.898087   \n",
       "min    1990.000000    55.000000          0.000000         2.000000   \n",
       "25%    2010.000000   192.000000          4.000000         2.000000   \n",
       "50%    2015.000000   264.000000          6.000000         4.000000   \n",
       "75%    2016.000000   320.000000          6.000000         4.000000   \n",
       "max    2017.000000  1001.000000         16.000000         4.000000   \n",
       "\n",
       "       highway MPG     city mpg   Popularity          MSRP  \n",
       "count  8084.000000  8084.000000  8084.000000  8.084000e+03  \n",
       "mean     26.650915    19.553686  1499.397823  5.007267e+04  \n",
       "std       7.720473     7.159964  1413.855615  7.029313e+04  \n",
       "min      12.000000     7.000000     2.000000  2.000000e+03  \n",
       "25%      22.000000    16.000000   549.000000  2.591875e+04  \n",
       "50%      26.000000    18.000000  1013.000000  3.500500e+04  \n",
       "75%      30.000000    22.000000  2009.000000  4.872250e+04  \n",
       "max     354.000000   137.000000  5657.000000  2.065902e+06  "
      ]
     },
     "execution_count": 10,
     "metadata": {
      "tags": []
     },
     "output_type": "execute_result"
    }
   ],
   "source": [
    "# getting all the important details/information of dataset\n",
    "CarPriceCleanDf.describe()"
   ]
  },
  {
   "cell_type": "markdown",
   "metadata": {
    "colab_type": "text",
    "id": "Yf58JIGFNVmi"
   },
   "source": [
    "## Step 2: Visualising the Data\n",
    "\n",
    "Let's now spend some time doing what is arguably the most important step - **understanding the data**.\n",
    "- If there is some obvious multicollinearity going on, this is the first place to catch it\n",
    "- Here's where you'll also identify if some predictors directly have a strong association with the outcome variable\n",
    "\n",
    "We'll visualise our data using `matplotlib` and `seaborn`."
   ]
  },
  {
   "cell_type": "markdown",
   "metadata": {
    "colab_type": "text",
    "id": "78B0jZmKNVml"
   },
   "source": [
    "#### Visualising Numeric Variables\n",
    "\n",
    "Let's make a pairplot of all the numeric variables"
   ]
  },
  {
   "cell_type": "code",
   "execution_count": 0,
   "metadata": {
    "colab": {},
    "colab_type": "code",
    "id": "Z_F89UsqNVmo",
    "outputId": "d0e6940b-66d4-4693-b496-81e6a84b75a3"
   },
   "outputs": [
    {
     "data": {
      "image/png": "[encoded data removed]",
      "text/plain": [
       "<Figure size 864x288 with 3 Axes>"
      ]
     },
     "metadata": {
      "needs_background": "light",
      "tags": []
     },
     "output_type": "display_data"
    }
   ],
   "source": [
    "# Pair plot to check which feature has strongest relationship with 'MSRP' to get the benchmark model i.e. Simple Linear Regression model\n",
    "sns.pairplot(CarPriceCleanDf, x_vars=['Engine HP', 'city mpg', 'Vehicle Size'], y_vars='MSRP',size=4, aspect=1, kind='scatter')\n",
    "plt.show()"
   ]
  },
  {
   "cell_type": "markdown",
   "metadata": {
    "colab_type": "text",
    "id": "c0juRSY8NVmx"
   },
   "source": [
    "As it shows Engine HP has the good linear relation ship"
   ]
  },
  {
   "cell_type": "markdown",
   "metadata": {
    "colab_type": "text",
    "id": "1JincGlvNVm4"
   },
   "source": [
    "#### Visualising data with Heatmap"
   ]
  },
  {
   "cell_type": "code",
   "execution_count": 0,
   "metadata": {
    "colab": {},
    "colab_type": "code",
    "id": "IT35KS64NVm7",
    "outputId": "d5138c3e-f21f-4484-f5d9-e543caa32158"
   },
   "outputs": [
    {
     "data": {
      "text/plain": [
       "<matplotlib.axes._subplots.AxesSubplot at 0x1872ef634e0>"
      ]
     },
     "execution_count": 12,
     "metadata": {
      "tags": []
     },
     "output_type": "execute_result"
    },
    {
     "data": {
      "image/png": "[encoded data removed]",
      "text/plain": [
       "<Figure size 864x720 with 2 Axes>"
      ]
     },
     "metadata": {
      "needs_background": "light",
      "tags": []
     },
     "output_type": "display_data"
    }
   ],
   "source": [
    "fig = plt.figure(figsize=(12,10))\n",
    "sns.heatmap(CarPriceCleanDf.corr(),annot=True)"
   ]
  },
  {
   "cell_type": "markdown",
   "metadata": {
    "colab_type": "text",
    "id": "FVd2H35rNVnH"
   },
   "source": [
    "As is visible from the pairplot and the heatmap, the variable `Engine Cylinders` seems to be most correlated with `Engine HP`, the variable `City mpg` seems to be most correlated with `highway mpg`. "
   ]
  },
  {
   "cell_type": "markdown",
   "metadata": {
    "colab_type": "text",
    "id": "NChF3JQsNVnU"
   },
   "source": [
    "## Step 3: Data Preparation\n",
    "- You can see that your dataset has many columns has categorical values in String, like Vehicle style: Coupe / Convertible.\n",
    "\n",
    "- But in order to fit a regression line, we would need numerical values and not string. Hence, we need to convert them to 1s and 0s"
   ]
  },
  {
   "cell_type": "code",
   "execution_count": 0,
   "metadata": {
    "colab": {},
    "colab_type": "code",
    "id": "p8nLE43ONVnX",
    "outputId": "65faa5fb-35fb-47b3-9099-b104e38ed55f"
   },
   "outputs": [
    {
     "data": {
      "text/html": [
       "<div>\n",
       "<style scoped>\n",
       "    .dataframe tbody tr th:only-of-type {\n",
       "        vertical-align: middle;\n",
       "    }\n",
       "\n",
       "    .dataframe tbody tr th {\n",
       "        vertical-align: top;\n",
       "    }\n",
       "\n",
       "    .dataframe thead th {\n",
       "        text-align: right;\n",
       "    }\n",
       "</style>\n",
       "<table border=\"1\" class=\"dataframe\">\n",
       "  <thead>\n",
       "    <tr style=\"text-align: right;\">\n",
       "      <th></th>\n",
       "      <th>Year</th>\n",
       "      <th>Engine HP</th>\n",
       "      <th>Engine Cylinders</th>\n",
       "      <th>Number of Doors</th>\n",
       "      <th>highway MPG</th>\n",
       "      <th>city mpg</th>\n",
       "      <th>Popularity</th>\n",
       "      <th>MSRP</th>\n",
       "      <th>Alfa Romeo</th>\n",
       "      <th>Aston Martin</th>\n",
       "      <th>...</th>\n",
       "      <th>4dr</th>\n",
       "      <th>Cargo</th>\n",
       "      <th>Convertible</th>\n",
       "      <th>Coupe</th>\n",
       "      <th>Crew</th>\n",
       "      <th>Extended</th>\n",
       "      <th>Passenger</th>\n",
       "      <th>Regular</th>\n",
       "      <th>Sedan</th>\n",
       "      <th>Wagon</th>\n",
       "    </tr>\n",
       "  </thead>\n",
       "  <tbody>\n",
       "    <tr>\n",
       "      <th>0</th>\n",
       "      <td>2011</td>\n",
       "      <td>335.0</td>\n",
       "      <td>6.0</td>\n",
       "      <td>2.0</td>\n",
       "      <td>26</td>\n",
       "      <td>19</td>\n",
       "      <td>3916</td>\n",
       "      <td>46135</td>\n",
       "      <td>0</td>\n",
       "      <td>0</td>\n",
       "      <td>...</td>\n",
       "      <td>0</td>\n",
       "      <td>0</td>\n",
       "      <td>0</td>\n",
       "      <td>1</td>\n",
       "      <td>0</td>\n",
       "      <td>0</td>\n",
       "      <td>0</td>\n",
       "      <td>0</td>\n",
       "      <td>0</td>\n",
       "      <td>0</td>\n",
       "    </tr>\n",
       "    <tr>\n",
       "      <th>1</th>\n",
       "      <td>2011</td>\n",
       "      <td>300.0</td>\n",
       "      <td>6.0</td>\n",
       "      <td>2.0</td>\n",
       "      <td>28</td>\n",
       "      <td>19</td>\n",
       "      <td>3916</td>\n",
       "      <td>40650</td>\n",
       "      <td>0</td>\n",
       "      <td>0</td>\n",
       "      <td>...</td>\n",
       "      <td>0</td>\n",
       "      <td>0</td>\n",
       "      <td>1</td>\n",
       "      <td>0</td>\n",
       "      <td>0</td>\n",
       "      <td>0</td>\n",
       "      <td>0</td>\n",
       "      <td>0</td>\n",
       "      <td>0</td>\n",
       "      <td>0</td>\n",
       "    </tr>\n",
       "    <tr>\n",
       "      <th>2</th>\n",
       "      <td>2011</td>\n",
       "      <td>300.0</td>\n",
       "      <td>6.0</td>\n",
       "      <td>2.0</td>\n",
       "      <td>28</td>\n",
       "      <td>20</td>\n",
       "      <td>3916</td>\n",
       "      <td>36350</td>\n",
       "      <td>0</td>\n",
       "      <td>0</td>\n",
       "      <td>...</td>\n",
       "      <td>0</td>\n",
       "      <td>0</td>\n",
       "      <td>0</td>\n",
       "      <td>1</td>\n",
       "      <td>0</td>\n",
       "      <td>0</td>\n",
       "      <td>0</td>\n",
       "      <td>0</td>\n",
       "      <td>0</td>\n",
       "      <td>0</td>\n",
       "    </tr>\n",
       "    <tr>\n",
       "      <th>3</th>\n",
       "      <td>2011</td>\n",
       "      <td>230.0</td>\n",
       "      <td>6.0</td>\n",
       "      <td>2.0</td>\n",
       "      <td>28</td>\n",
       "      <td>18</td>\n",
       "      <td>3916</td>\n",
       "      <td>29450</td>\n",
       "      <td>0</td>\n",
       "      <td>0</td>\n",
       "      <td>...</td>\n",
       "      <td>0</td>\n",
       "      <td>0</td>\n",
       "      <td>0</td>\n",
       "      <td>1</td>\n",
       "      <td>0</td>\n",
       "      <td>0</td>\n",
       "      <td>0</td>\n",
       "      <td>0</td>\n",
       "      <td>0</td>\n",
       "      <td>0</td>\n",
       "    </tr>\n",
       "    <tr>\n",
       "      <th>4</th>\n",
       "      <td>2011</td>\n",
       "      <td>230.0</td>\n",
       "      <td>6.0</td>\n",
       "      <td>2.0</td>\n",
       "      <td>28</td>\n",
       "      <td>18</td>\n",
       "      <td>3916</td>\n",
       "      <td>34500</td>\n",
       "      <td>0</td>\n",
       "      <td>0</td>\n",
       "      <td>...</td>\n",
       "      <td>0</td>\n",
       "      <td>0</td>\n",
       "      <td>1</td>\n",
       "      <td>0</td>\n",
       "      <td>0</td>\n",
       "      <td>0</td>\n",
       "      <td>0</td>\n",
       "      <td>0</td>\n",
       "      <td>0</td>\n",
       "      <td>0</td>\n",
       "    </tr>\n",
       "  </tbody>\n",
       "</table>\n",
       "<p>5 rows × 86 columns</p>\n",
       "</div>"
      ],
      "text/plain": [
       "   Year  Engine HP  Engine Cylinders  Number of Doors  highway MPG  city mpg  \\\n",
       "0  2011      335.0               6.0              2.0           26        19   \n",
       "1  2011      300.0               6.0              2.0           28        19   \n",
       "2  2011      300.0               6.0              2.0           28        20   \n",
       "3  2011      230.0               6.0              2.0           28        18   \n",
       "4  2011      230.0               6.0              2.0           28        18   \n",
       "\n",
       "   Popularity   MSRP  Alfa Romeo  Aston Martin  ...    4dr  Cargo  \\\n",
       "0        3916  46135           0             0  ...      0      0   \n",
       "1        3916  40650           0             0  ...      0      0   \n",
       "2        3916  36350           0             0  ...      0      0   \n",
       "3        3916  29450           0             0  ...      0      0   \n",
       "4        3916  34500           0             0  ...      0      0   \n",
       "\n",
       "   Convertible  Coupe  Crew  Extended  Passenger  Regular  Sedan  Wagon  \n",
       "0            0      1     0         0          0        0      0      0  \n",
       "1            1      0     0         0          0        0      0      0  \n",
       "2            0      1     0         0          0        0      0      0  \n",
       "3            0      1     0         0          0        0      0      0  \n",
       "4            1      0     0         0          0        0      0      0  \n",
       "\n",
       "[5 rows x 86 columns]"
      ]
     },
     "execution_count": 13,
     "metadata": {
      "tags": []
     },
     "output_type": "execute_result"
    }
   ],
   "source": [
    "# converting all categorical variables to numeric variables\n",
    "\n",
    "# Let's drop the first column from status df using 'drop_first = True'\n",
    "carmake = pd.get_dummies(CarPriceCleanDf['Make'], drop_first = True)\n",
    "\n",
    "carenginefueltype = pd.get_dummies(CarPriceCleanDf['Engine Fuel Type'], drop_first = True)\n",
    "\n",
    "cartransmissiontype = pd.get_dummies(CarPriceCleanDf['Transmission Type'], drop_first = True)\n",
    "\n",
    "cardrivenwheels = pd.get_dummies(CarPriceCleanDf['Driven_Wheels'], drop_first = True)\n",
    "\n",
    "carmarketcategory =  pd.get_dummies(CarPriceCleanDf['Market Category'], drop_first = True)\n",
    "\n",
    "carvehiclesize = pd.get_dummies(CarPriceCleanDf['Vehicle Size'], drop_first = True)\n",
    "\n",
    "carvehiclestyle = pd.get_dummies(CarPriceCleanDf['Vehicle Style'], drop_first = True)\n",
    "\n",
    "# Add the results to the original housing dataframe\n",
    "CarPriceCleanDf = pd.concat([CarPriceCleanDf,carmake, carenginefueltype,cartransmissiontype,cardrivenwheels,\n",
    "                             carmarketcategory,carvehiclesize,carvehiclestyle], axis = 1)\n",
    "\n",
    "# Drop all categorical variable original columns\n",
    "CarPriceCleanDf.drop(['Make','Engine Fuel Type','Transmission Type','Driven_Wheels', 'Market Category','Vehicle Size','Vehicle Style',], axis = 1, inplace = True)\n",
    "\n",
    "# Now let's see the head of our dataframe.\n",
    "CarPriceCleanDf.head()"
   ]
  },
  {
   "cell_type": "markdown",
   "metadata": {
    "colab_type": "text",
    "id": "jGPiMAm1NVnh"
   },
   "source": [
    "## Step 4: Splitting the Data into Training and Testing Sets\n",
    "\n",
    "As you know, the first basic step for regression is performing a train-test split."
   ]
  },
  {
   "cell_type": "code",
   "execution_count": 0,
   "metadata": {
    "colab": {},
    "colab_type": "code",
    "id": "6YOt5yPUNVnl"
   },
   "outputs": [],
   "source": [
    "# import train_test_split\n",
    "from sklearn.model_selection import train_test_split\n",
    "\n",
    "# We specify this so that the train and test data set always have the same rows, respectively\n",
    "np.random.seed(0)\n",
    "\n",
    "# splitting train and test dataset for model\n",
    "df_train, df_test = train_test_split(CarPriceCleanDf, train_size = 0.7, test_size = 0.3, random_state = 100)"
   ]
  },
  {
   "cell_type": "markdown",
   "metadata": {
    "colab_type": "text",
    "id": "OkMe7n0bNVnw"
   },
   "source": [
    "### Rescaling the Features \n",
    "\n",
    "As you saw in the demonstration for Simple Linear Regression, scaling doesn't impact your model. Here we can see that except for `Popularity`, all the columns have small integer values. So it is extremely important to rescale the variables so that they have a comparable scale. If we don't have comparable scales, then some of the coefficients as obtained by fitting the regression model might be very large or very small as compared to the other coefficients. This might become very annoying at the time of model evaluation. So it is advised to use standardization or normalization so that the units of the coefficients obtained are all on the same scale. As you know, there are two common ways of rescaling:\n",
    "\n",
    "1. Min-Max scaling \n",
    "2. Standardisation (mean-0, sigma-1) \n",
    "\n",
    "This time, we will use MinMax scaling."
   ]
  },
  {
   "cell_type": "code",
   "execution_count": 0,
   "metadata": {
    "colab": {},
    "colab_type": "code",
    "id": "UWSpU6RjNVny"
   },
   "outputs": [],
   "source": [
    "# import MinMaxScaler to scale all umerical features(other than 1 and 0)\n",
    "from sklearn.preprocessing import MinMaxScaler"
   ]
  },
  {
   "cell_type": "code",
   "execution_count": 0,
   "metadata": {
    "colab": {},
    "colab_type": "code",
    "id": "d3l739k8NVn-"
   },
   "outputs": [],
   "source": [
    "# creating object of MinMaxScaler\n",
    "scaler = MinMaxScaler()"
   ]
  },
  {
   "cell_type": "code",
   "execution_count": 0,
   "metadata": {
    "colab": {},
    "colab_type": "code",
    "id": "11MUYU1CNVoI",
    "outputId": "12d962b5-d374-405a-848e-458bc8537945"
   },
   "outputs": [
    {
     "data": {
      "text/html": [
       "<div>\n",
       "<style scoped>\n",
       "    .dataframe tbody tr th:only-of-type {\n",
       "        vertical-align: middle;\n",
       "    }\n",
       "\n",
       "    .dataframe tbody tr th {\n",
       "        vertical-align: top;\n",
       "    }\n",
       "\n",
       "    .dataframe thead th {\n",
       "        text-align: right;\n",
       "    }\n",
       "</style>\n",
       "<table border=\"1\" class=\"dataframe\">\n",
       "  <thead>\n",
       "    <tr style=\"text-align: right;\">\n",
       "      <th></th>\n",
       "      <th>Year</th>\n",
       "      <th>Engine HP</th>\n",
       "      <th>Engine Cylinders</th>\n",
       "      <th>Number of Doors</th>\n",
       "      <th>highway MPG</th>\n",
       "      <th>city mpg</th>\n",
       "      <th>Popularity</th>\n",
       "      <th>MSRP</th>\n",
       "      <th>Alfa Romeo</th>\n",
       "      <th>Aston Martin</th>\n",
       "      <th>...</th>\n",
       "      <th>4dr</th>\n",
       "      <th>Cargo</th>\n",
       "      <th>Convertible</th>\n",
       "      <th>Coupe</th>\n",
       "      <th>Crew</th>\n",
       "      <th>Extended</th>\n",
       "      <th>Passenger</th>\n",
       "      <th>Regular</th>\n",
       "      <th>Sedan</th>\n",
       "      <th>Wagon</th>\n",
       "    </tr>\n",
       "  </thead>\n",
       "  <tbody>\n",
       "    <tr>\n",
       "      <th>285</th>\n",
       "      <td>2008</td>\n",
       "      <td>0.265328</td>\n",
       "      <td>0.375</td>\n",
       "      <td>0.0</td>\n",
       "      <td>0.035088</td>\n",
       "      <td>0.069767</td>\n",
       "      <td>0.354907</td>\n",
       "      <td>0.014153</td>\n",
       "      <td>0</td>\n",
       "      <td>0</td>\n",
       "      <td>...</td>\n",
       "      <td>0</td>\n",
       "      <td>0</td>\n",
       "      <td>0</td>\n",
       "      <td>1</td>\n",
       "      <td>0</td>\n",
       "      <td>0</td>\n",
       "      <td>0</td>\n",
       "      <td>0</td>\n",
       "      <td>0</td>\n",
       "      <td>0</td>\n",
       "    </tr>\n",
       "    <tr>\n",
       "      <th>6359</th>\n",
       "      <td>1993</td>\n",
       "      <td>0.084567</td>\n",
       "      <td>0.250</td>\n",
       "      <td>0.0</td>\n",
       "      <td>0.040936</td>\n",
       "      <td>0.085271</td>\n",
       "      <td>0.094253</td>\n",
       "      <td>0.000000</td>\n",
       "      <td>0</td>\n",
       "      <td>0</td>\n",
       "      <td>...</td>\n",
       "      <td>0</td>\n",
       "      <td>0</td>\n",
       "      <td>0</td>\n",
       "      <td>0</td>\n",
       "      <td>0</td>\n",
       "      <td>0</td>\n",
       "      <td>0</td>\n",
       "      <td>0</td>\n",
       "      <td>0</td>\n",
       "      <td>0</td>\n",
       "    </tr>\n",
       "    <tr>\n",
       "      <th>11494</th>\n",
       "      <td>2016</td>\n",
       "      <td>0.258985</td>\n",
       "      <td>0.375</td>\n",
       "      <td>1.0</td>\n",
       "      <td>0.043860</td>\n",
       "      <td>0.085271</td>\n",
       "      <td>0.692131</td>\n",
       "      <td>0.021706</td>\n",
       "      <td>0</td>\n",
       "      <td>0</td>\n",
       "      <td>...</td>\n",
       "      <td>1</td>\n",
       "      <td>0</td>\n",
       "      <td>0</td>\n",
       "      <td>0</td>\n",
       "      <td>0</td>\n",
       "      <td>0</td>\n",
       "      <td>0</td>\n",
       "      <td>0</td>\n",
       "      <td>0</td>\n",
       "      <td>0</td>\n",
       "    </tr>\n",
       "    <tr>\n",
       "      <th>10318</th>\n",
       "      <td>2016</td>\n",
       "      <td>0.131078</td>\n",
       "      <td>0.250</td>\n",
       "      <td>0.0</td>\n",
       "      <td>0.055556</td>\n",
       "      <td>0.116279</td>\n",
       "      <td>0.018214</td>\n",
       "      <td>0.008981</td>\n",
       "      <td>0</td>\n",
       "      <td>0</td>\n",
       "      <td>...</td>\n",
       "      <td>0</td>\n",
       "      <td>0</td>\n",
       "      <td>0</td>\n",
       "      <td>0</td>\n",
       "      <td>0</td>\n",
       "      <td>0</td>\n",
       "      <td>0</td>\n",
       "      <td>0</td>\n",
       "      <td>0</td>\n",
       "      <td>0</td>\n",
       "    </tr>\n",
       "    <tr>\n",
       "      <th>6574</th>\n",
       "      <td>2014</td>\n",
       "      <td>0.366808</td>\n",
       "      <td>0.500</td>\n",
       "      <td>1.0</td>\n",
       "      <td>0.020468</td>\n",
       "      <td>0.046512</td>\n",
       "      <td>0.108753</td>\n",
       "      <td>0.027836</td>\n",
       "      <td>0</td>\n",
       "      <td>0</td>\n",
       "      <td>...</td>\n",
       "      <td>1</td>\n",
       "      <td>0</td>\n",
       "      <td>0</td>\n",
       "      <td>0</td>\n",
       "      <td>0</td>\n",
       "      <td>0</td>\n",
       "      <td>0</td>\n",
       "      <td>0</td>\n",
       "      <td>0</td>\n",
       "      <td>0</td>\n",
       "    </tr>\n",
       "  </tbody>\n",
       "</table>\n",
       "<p>5 rows × 86 columns</p>\n",
       "</div>"
      ],
      "text/plain": [
       "       Year  Engine HP  Engine Cylinders  Number of Doors  highway MPG  \\\n",
       "285    2008   0.265328             0.375              0.0     0.035088   \n",
       "6359   1993   0.084567             0.250              0.0     0.040936   \n",
       "11494  2016   0.258985             0.375              1.0     0.043860   \n",
       "10318  2016   0.131078             0.250              0.0     0.055556   \n",
       "6574   2014   0.366808             0.500              1.0     0.020468   \n",
       "\n",
       "       city mpg  Popularity      MSRP  Alfa Romeo  Aston Martin  ...    4dr  \\\n",
       "285    0.069767    0.354907  0.014153           0             0  ...      0   \n",
       "6359   0.085271    0.094253  0.000000           0             0  ...      0   \n",
       "11494  0.085271    0.692131  0.021706           0             0  ...      1   \n",
       "10318  0.116279    0.018214  0.008981           0             0  ...      0   \n",
       "6574   0.046512    0.108753  0.027836           0             0  ...      1   \n",
       "\n",
       "       Cargo  Convertible  Coupe  Crew  Extended  Passenger  Regular  Sedan  \\\n",
       "285        0            0      1     0         0          0        0      0   \n",
       "6359       0            0      0     0         0          0        0      0   \n",
       "11494      0            0      0     0         0          0        0      0   \n",
       "10318      0            0      0     0         0          0        0      0   \n",
       "6574       0            0      0     0         0          0        0      0   \n",
       "\n",
       "       Wagon  \n",
       "285        0  \n",
       "6359       0  \n",
       "11494      0  \n",
       "10318      0  \n",
       "6574       0  \n",
       "\n",
       "[5 rows x 86 columns]"
      ]
     },
     "execution_count": 17,
     "metadata": {
      "tags": []
     },
     "output_type": "execute_result"
    }
   ],
   "source": [
    "# Apply scaler() to all the columns except the 'yes-no' and 'dummy' variables\n",
    "num_vars = ['Engine HP', 'Engine Cylinders', 'Number of Doors', 'highway MPG', 'city mpg','Popularity','MSRP']\n",
    "\n",
    "df_train[num_vars] = scaler.fit_transform(df_train[num_vars])\n",
    "\n",
    "df_train.head()"
   ]
  },
  {
   "cell_type": "code",
   "execution_count": 0,
   "metadata": {
    "colab": {},
    "colab_type": "code",
    "id": "2pvyxV9FNVoV"
   },
   "outputs": [],
   "source": [
    "# creating X and y from training dataset\n",
    "\n",
    "y_train = df_train.pop('MSRP')\n",
    "X_train = df_train"
   ]
  },
  {
   "cell_type": "code",
   "execution_count": 0,
   "metadata": {
    "colab": {},
    "colab_type": "code",
    "id": "tdEYyzOCNVod"
   },
   "outputs": [],
   "source": [
    "# Importing RFE and LinearRegression\n",
    "from sklearn.feature_selection import RFE\n",
    "from sklearn.linear_model import LinearRegression"
   ]
  },
  {
   "cell_type": "code",
   "execution_count": 0,
   "metadata": {
    "colab": {},
    "colab_type": "code",
    "id": "kAlh32y9NVon"
   },
   "outputs": [],
   "source": [
    "# Running RFE with the output number of the variable equal to 15\n",
    "lm = LinearRegression()\n",
    "lm.fit(X_train, y_train)\n",
    "\n",
    "rfe = RFE(lm, 15)             # running RFE\n",
    "rfe = rfe.fit(X_train, y_train)"
   ]
  },
  {
   "cell_type": "code",
   "execution_count": 0,
   "metadata": {
    "colab": {},
    "colab_type": "code",
    "id": "5yGvpTr7NVow",
    "outputId": "4ddc4cf2-06c8-4839-fb03-1da48edf5fcc"
   },
   "outputs": [
    {
     "data": {
      "text/plain": [
       "[('Year', False, 68),\n",
       " ('Engine HP', True, 1),\n",
       " ('Engine Cylinders', False, 14),\n",
       " ('Number of Doors', False, 7),\n",
       " ('highway MPG', False, 62),\n",
       " ('city mpg', True, 1),\n",
       " ('Popularity', False, 20),\n",
       " ('Alfa Romeo', False, 4),\n",
       " ('Aston Martin', False, 3),\n",
       " ('Audi', False, 45),\n",
       " ('BMW', False, 31),\n",
       " ('Bentley', True, 1),\n",
       " ('Bugatti', True, 1),\n",
       " ('Buick', False, 43),\n",
       " ('Cadillac', False, 46),\n",
       " ('Chevrolet', False, 26),\n",
       " ('Chrysler', False, 30),\n",
       " ('Dodge', False, 15),\n",
       " ('FIAT', False, 56),\n",
       " ('Ferrari', True, 1),\n",
       " ('Ford', False, 19),\n",
       " ('GMC', False, 49),\n",
       " ('Genesis', False, 50),\n",
       " ('HUMMER', False, 32),\n",
       " ('Honda', False, 25),\n",
       " ('Hyundai', False, 27),\n",
       " ('Infiniti', False, 52),\n",
       " ('Kia', False, 24),\n",
       " ('Lamborghini', True, 1),\n",
       " ('Land Rover', False, 12),\n",
       " ('Lexus', False, 29),\n",
       " ('Lincoln', False, 42),\n",
       " ('Lotus', True, 1),\n",
       " ('Maserati', True, 1),\n",
       " ('Maybach', True, 1),\n",
       " ('Mazda', False, 58),\n",
       " ('McLaren', False, 2),\n",
       " ('Mercedes-Benz', False, 18),\n",
       " ('Mitsubishi', False, 57),\n",
       " ('Nissan', False, 22),\n",
       " ('Oldsmobile', False, 51),\n",
       " ('Plymouth', False, 44),\n",
       " ('Pontiac', False, 53),\n",
       " ('Porsche', True, 1),\n",
       " ('Rolls-Royce', True, 1),\n",
       " ('Saab', False, 54),\n",
       " ('Scion', False, 39),\n",
       " ('Spyker', True, 1),\n",
       " ('Subaru', False, 55),\n",
       " ('Suzuki', False, 59),\n",
       " ('Toyota', False, 23),\n",
       " ('Volkswagen', False, 47),\n",
       " ('Volvo', False, 48),\n",
       " ('electric', True, 1),\n",
       " ('flex-fuel', False, 36),\n",
       " ('premium', False, 66),\n",
       " ('regular', False, 38),\n",
       " ('AUTOMATIC', False, 61),\n",
       " ('DIRECT_DRIVE', False, 16),\n",
       " ('MANUAL', False, 21),\n",
       " ('UNKNOWN', True, 1),\n",
       " ('four', False, 65),\n",
       " ('front', False, 70),\n",
       " ('rear', False, 28),\n",
       " ('Diesel', False, 40),\n",
       " ('Exotic', True, 1),\n",
       " ('Factory Tuner', False, 41),\n",
       " ('Flex Fuel', False, 37),\n",
       " ('Hatchback', False, 60),\n",
       " ('High-Performance', False, 34),\n",
       " ('Hybrid', False, 69),\n",
       " ('Luxury', False, 71),\n",
       " ('Performance', False, 67),\n",
       " ('Large', False, 33),\n",
       " ('Midsize', False, 64),\n",
       " ('4dr', False, 10),\n",
       " ('Cargo', False, 13),\n",
       " ('Convertible', False, 17),\n",
       " ('Coupe', False, 63),\n",
       " ('Crew', False, 6),\n",
       " ('Extended', False, 5),\n",
       " ('Passenger', False, 11),\n",
       " ('Regular', False, 35),\n",
       " ('Sedan', False, 8),\n",
       " ('Wagon', False, 9)]"
      ]
     },
     "execution_count": 21,
     "metadata": {
      "tags": []
     },
     "output_type": "execute_result"
    }
   ],
   "source": [
    "# Getiing the rank of features and support value\n",
    "\n",
    "list(zip(X_train.columns,rfe.support_,rfe.ranking_))"
   ]
  },
  {
   "cell_type": "code",
   "execution_count": 0,
   "metadata": {
    "colab": {},
    "colab_type": "code",
    "id": "7TdZclpHNVo6",
    "outputId": "22a085ea-6141-4534-cdd6-aaec458740d7"
   },
   "outputs": [
    {
     "data": {
      "text/plain": [
       "Index(['Engine HP', 'city mpg', 'Bentley', 'Bugatti', 'Ferrari', 'Lamborghini',\n",
       "       'Lotus', 'Maserati', 'Maybach', 'Porsche', 'Rolls-Royce', 'Spyker',\n",
       "       'electric', 'UNKNOWN', 'Exotic'],\n",
       "      dtype='object')"
      ]
     },
     "execution_count": 22,
     "metadata": {
      "tags": []
     },
     "output_type": "execute_result"
    }
   ],
   "source": [
    "# select the feature with 'True' support value\n",
    "col = X_train.columns[rfe.support_]\n",
    "col"
   ]
  },
  {
   "cell_type": "code",
   "execution_count": 0,
   "metadata": {
    "colab": {},
    "colab_type": "code",
    "id": "mZnjGv8eNVpB"
   },
   "outputs": [],
   "source": [
    "# Creating X_test dataframe with RFE selected variables\n",
    "X_train_rfe = X_train[col]"
   ]
  },
  {
   "cell_type": "markdown",
   "metadata": {
    "colab_type": "text",
    "id": "knt40yDxNVpQ"
   },
   "source": [
    "## Step 5: Building a linear model\n",
    "\n",
    "Fit a regression line through the training data using `statsmodels`. Remember that in `statsmodels`, you need to explicitly fit a constant using `sm.add_constant(X)` because if we don't perform this step, `statsmodels` fits a regression line passing through the origin, by default."
   ]
  },
  {
   "cell_type": "code",
   "execution_count": 0,
   "metadata": {
    "colab": {},
    "colab_type": "code",
    "id": "TJfl5uy-NVpS"
   },
   "outputs": [],
   "source": [
    "# Adding a constant variable to get intercept\n",
    "import statsmodels.api as sm  \n",
    "X_train_rfe_lm = sm.add_constant(X_train_rfe)"
   ]
  },
  {
   "cell_type": "code",
   "execution_count": 0,
   "metadata": {
    "colab": {},
    "colab_type": "code",
    "id": "0ywqBhGWNVpc"
   },
   "outputs": [],
   "source": [
    "# fitting the model\n",
    "lm = sm.OLS(y_train,X_train_rfe_lm).fit()  "
   ]
  },
  {
   "cell_type": "code",
   "execution_count": 0,
   "metadata": {
    "colab": {},
    "colab_type": "code",
    "id": "6q3sMvWvNVpk",
    "outputId": "4ea7d3d9-1386-4435-d4ef-a04dd1b0fa94"
   },
   "outputs": [
    {
     "name": "stdout",
     "output_type": "stream",
     "text": [
      "                            OLS Regression Results                            \n",
      "==============================================================================\n",
      "Dep. Variable:                   MSRP   R-squared:                       0.815\n",
      "Model:                            OLS   Adj. R-squared:                  0.814\n",
      "Method:                 Least Squares   F-statistic:                     1653.\n",
      "Date:                Mon, 25 Mar 2019   Prob (F-statistic):               0.00\n",
      "Time:                        18:59:30   Log-Likelihood:                 16010.\n",
      "No. Observations:                5658   AIC:                        -3.199e+04\n",
      "Df Residuals:                    5642   BIC:                        -3.188e+04\n",
      "Df Model:                          15                                         \n",
      "Covariance Type:            nonrobust                                         \n",
      "===============================================================================\n",
      "                  coef    std err          t      P>|t|      [0.025      0.975]\n",
      "-------------------------------------------------------------------------------\n",
      "const          -0.0116      0.001    -13.439      0.000      -0.013      -0.010\n",
      "Engine HP       0.1072      0.002     47.794      0.000       0.103       0.112\n",
      "city mpg        0.0614      0.005     11.739      0.000       0.051       0.072\n",
      "Bentley         0.0191      0.002      7.663      0.000       0.014       0.024\n",
      "Bugatti         0.7183      0.010     70.009      0.000       0.698       0.738\n",
      "Ferrari         0.0226      0.003      8.614      0.000       0.017       0.028\n",
      "Lamborghini     0.0542      0.003     19.882      0.000       0.049       0.060\n",
      "Lotus          -0.0349      0.003    -10.152      0.000      -0.042      -0.028\n",
      "Maserati       -0.0251      0.003    -10.007      0.000      -0.030      -0.020\n",
      "Maybach         0.1540      0.005     32.583      0.000       0.145       0.163\n",
      "Porsche         0.0157      0.002     10.150      0.000       0.013       0.019\n",
      "Rolls-Royce     0.0802      0.004     22.548      0.000       0.073       0.087\n",
      "Spyker          0.0243      0.010      2.384      0.017       0.004       0.044\n",
      "electric       -0.0395      0.007     -5.810      0.000      -0.053      -0.026\n",
      "UNKNOWN        -0.0171      0.008     -2.069      0.039      -0.033      -0.001\n",
      "Exotic          0.0490      0.001     33.297      0.000       0.046       0.052\n",
      "==============================================================================\n",
      "Omnibus:                    11343.043   Durbin-Watson:                   2.009\n",
      "Prob(Omnibus):                  0.000   Jarque-Bera (JB):         76179300.881\n",
      "Skew:                          15.851   Prob(JB):                         0.00\n",
      "Kurtosis:                     570.566   Cond. No.                         56.2\n",
      "==============================================================================\n",
      "\n",
      "Warnings:\n",
      "[1] Standard Errors assume that the covariance matrix of the errors is correctly specified.\n"
     ]
    }
   ],
   "source": [
    "#Let's see the summary of our linear model with multiple features\n",
    "print(lm.summary())"
   ]
  },
  {
   "cell_type": "markdown",
   "metadata": {
    "colab_type": "text",
    "id": "7Tg-NVCvNVpu"
   },
   "source": [
    "The R-squared value obtained is `0.815`\n",
    "\n",
    "#### Removing field `Unknown` as it is having P-value non zero(i.e. 0.039)"
   ]
  },
  {
   "cell_type": "code",
   "execution_count": 0,
   "metadata": {
    "colab": {},
    "colab_type": "code",
    "id": "umTgUtLeNVpw"
   },
   "outputs": [],
   "source": [
    "# Dropping the 'UNKNOWN' column from selected features\n",
    "X_train_new1 = X_train_rfe.drop([\"UNKNOWN\"], axis = 1)"
   ]
  },
  {
   "cell_type": "code",
   "execution_count": 0,
   "metadata": {
    "colab": {},
    "colab_type": "code",
    "id": "Qu-xIb88NVp3",
    "outputId": "2add583f-6c59-4ab7-d125-6ba195db53a5"
   },
   "outputs": [
    {
     "name": "stdout",
     "output_type": "stream",
     "text": [
      "                            OLS Regression Results                            \n",
      "==============================================================================\n",
      "Dep. Variable:                   MSRP   R-squared:                       0.814\n",
      "Model:                            OLS   Adj. R-squared:                  0.814\n",
      "Method:                 Least Squares   F-statistic:                     1769.\n",
      "Date:                Mon, 25 Mar 2019   Prob (F-statistic):               0.00\n",
      "Time:                        18:59:30   Log-Likelihood:                 16008.\n",
      "No. Observations:                5658   AIC:                        -3.199e+04\n",
      "Df Residuals:                    5643   BIC:                        -3.189e+04\n",
      "Df Model:                          14                                         \n",
      "Covariance Type:            nonrobust                                         \n",
      "===============================================================================\n",
      "                  coef    std err          t      P>|t|      [0.025      0.975]\n",
      "-------------------------------------------------------------------------------\n",
      "const          -0.0116      0.001    -13.466      0.000      -0.013      -0.010\n",
      "Engine HP       0.1071      0.002     47.778      0.000       0.103       0.112\n",
      "city mpg        0.0616      0.005     11.771      0.000       0.051       0.072\n",
      "Bentley         0.0191      0.002      7.661      0.000       0.014       0.024\n",
      "Bugatti         0.7184      0.010     69.990      0.000       0.698       0.738\n",
      "Ferrari         0.0226      0.003      8.613      0.000       0.017       0.028\n",
      "Lamborghini     0.0542      0.003     19.877      0.000       0.049       0.060\n",
      "Lotus          -0.0349      0.003    -10.151      0.000      -0.042      -0.028\n",
      "Maserati       -0.0251      0.003    -10.003      0.000      -0.030      -0.020\n",
      "Maybach         0.1540      0.005     32.575      0.000       0.145       0.163\n",
      "Porsche         0.0157      0.002     10.155      0.000       0.013       0.019\n",
      "Rolls-Royce     0.0802      0.004     22.542      0.000       0.073       0.087\n",
      "Spyker          0.0243      0.010      2.383      0.017       0.004       0.044\n",
      "electric       -0.0397      0.007     -5.828      0.000      -0.053      -0.026\n",
      "Exotic          0.0490      0.001     33.301      0.000       0.046       0.052\n",
      "==============================================================================\n",
      "Omnibus:                    11337.357   Durbin-Watson:                   2.008\n",
      "Prob(Omnibus):                  0.000   Jarque-Bera (JB):         75951515.306\n",
      "Skew:                          15.833   Prob(JB):                         0.00\n",
      "Kurtosis:                     569.716   Cond. No.                         56.2\n",
      "==============================================================================\n",
      "\n",
      "Warnings:\n",
      "[1] Standard Errors assume that the covariance matrix of the errors is correctly specified.\n"
     ]
    }
   ],
   "source": [
    "# Adding a constant variable \n",
    "import statsmodels.api as sm  \n",
    "X_train_lm1 = sm.add_constant(X_train_new1)\n",
    "\n",
    "# creating new model after removing 'UNKNOWN' column\n",
    "lm = sm.OLS(y_train,X_train_lm1).fit()   \n",
    "\n",
    "#Let's see the summary of new linear model\n",
    "print(lm.summary())"
   ]
  },
  {
   "cell_type": "markdown",
   "metadata": {
    "colab_type": "text",
    "id": "v3Cn8CfjNVqD"
   },
   "source": [
    "The R-squared value obtained is `0.814`\n",
    "\n",
    "#### Removing field `Spyker` as it is having non zero P-value(i.e. 0.017)"
   ]
  },
  {
   "cell_type": "code",
   "execution_count": 0,
   "metadata": {
    "colab": {},
    "colab_type": "code",
    "id": "v4Mwre49NVqG"
   },
   "outputs": [],
   "source": [
    "# Dropping Spyker from the selected features\n",
    "X_train_new2 = X_train_new1.drop([\"Spyker\"], axis = 1)"
   ]
  },
  {
   "cell_type": "code",
   "execution_count": 0,
   "metadata": {
    "colab": {},
    "colab_type": "code",
    "id": "Q7wroS3INVqT",
    "outputId": "6ca05a1d-01d2-4f7f-b7c8-a2f9384dec62"
   },
   "outputs": [
    {
     "name": "stdout",
     "output_type": "stream",
     "text": [
      "                            OLS Regression Results                            \n",
      "==============================================================================\n",
      "Dep. Variable:                   MSRP   R-squared:                       0.814\n",
      "Model:                            OLS   Adj. R-squared:                  0.814\n",
      "Method:                 Least Squares   F-statistic:                     1904.\n",
      "Date:                Mon, 25 Mar 2019   Prob (F-statistic):               0.00\n",
      "Time:                        18:59:30   Log-Likelihood:                 16005.\n",
      "No. Observations:                5658   AIC:                        -3.198e+04\n",
      "Df Residuals:                    5644   BIC:                        -3.189e+04\n",
      "Df Model:                          13                                         \n",
      "Covariance Type:            nonrobust                                         \n",
      "===============================================================================\n",
      "                  coef    std err          t      P>|t|      [0.025      0.975]\n",
      "-------------------------------------------------------------------------------\n",
      "const          -0.0116      0.001    -13.410      0.000      -0.013      -0.010\n",
      "Engine HP       0.1070      0.002     47.712      0.000       0.103       0.111\n",
      "city mpg        0.0614      0.005     11.734      0.000       0.051       0.072\n",
      "Bentley         0.0187      0.002      7.505      0.000       0.014       0.024\n",
      "Bugatti         0.7180      0.010     69.933      0.000       0.698       0.738\n",
      "Ferrari         0.0221      0.003      8.463      0.000       0.017       0.027\n",
      "Lamborghini     0.0538      0.003     19.756      0.000       0.048       0.059\n",
      "Lotus          -0.0354      0.003    -10.298      0.000      -0.042      -0.029\n",
      "Maserati       -0.0255      0.003    -10.196      0.000      -0.030      -0.021\n",
      "Maybach         0.1536      0.005     32.495      0.000       0.144       0.163\n",
      "Porsche         0.0158      0.002     10.155      0.000       0.013       0.019\n",
      "Rolls-Royce     0.0797      0.004     22.439      0.000       0.073       0.087\n",
      "electric       -0.0395      0.007     -5.807      0.000      -0.053      -0.026\n",
      "Exotic          0.0495      0.001     33.900      0.000       0.047       0.052\n",
      "==============================================================================\n",
      "Omnibus:                    11326.502   Durbin-Watson:                   2.008\n",
      "Prob(Omnibus):                  0.000   Jarque-Bera (JB):         75634622.842\n",
      "Skew:                          15.798   Prob(JB):                         0.00\n",
      "Kurtosis:                     568.533   Cond. No.                         55.9\n",
      "==============================================================================\n",
      "\n",
      "Warnings:\n",
      "[1] Standard Errors assume that the covariance matrix of the errors is correctly specified.\n"
     ]
    }
   ],
   "source": [
    "# Adding a constant variable \n",
    "import statsmodels.api as sm  \n",
    "X_train_lm2 = sm.add_constant(X_train_new2)\n",
    "lm = sm.OLS(y_train,X_train_lm2).fit()   \n",
    "\n",
    "#Let's see the summary of our linear model\n",
    "print(lm.summary())"
   ]
  },
  {
   "cell_type": "markdown",
   "metadata": {
    "colab_type": "text",
    "id": "KbDnK247NVqc"
   },
   "source": [
    "- The Adjusted R-squared value obtained is `0.814`.\n",
    "- P-Value for all features are zero.\n",
    "- AIC and BIC are lowest values.\n",
    "\n",
    "Above three results are expected to be a good model. Now we will check for multicollinearity using VIF.\n"
   ]
  },
  {
   "cell_type": "markdown",
   "metadata": {
    "colab_type": "text",
    "id": "E2CYkPr4NVqe"
   },
   "source": [
    "### Checking VIF\n",
    "\n",
    "Variance Inflation Factor or VIF, gives a basic quantitative idea about how much the feature variables are correlated with each other. It is an extremely important parameter to test our linear model. The formula for calculating `VIF` is:\n",
    "\n",
    "### $ VIF_i = \\frac{1}{1 - {R_i}^2} $"
   ]
  },
  {
   "cell_type": "code",
   "execution_count": 0,
   "metadata": {
    "colab": {},
    "colab_type": "code",
    "id": "YRW6fmk4NVqg",
    "outputId": "6d892cc3-b856-4f6d-be55-9f7ea2b9c798"
   },
   "outputs": [
    {
     "data": {
      "text/html": [
       "<div>\n",
       "<style scoped>\n",
       "    .dataframe tbody tr th:only-of-type {\n",
       "        vertical-align: middle;\n",
       "    }\n",
       "\n",
       "    .dataframe tbody tr th {\n",
       "        vertical-align: top;\n",
       "    }\n",
       "\n",
       "    .dataframe thead th {\n",
       "        text-align: right;\n",
       "    }\n",
       "</style>\n",
       "<table border=\"1\" class=\"dataframe\">\n",
       "  <thead>\n",
       "    <tr style=\"text-align: right;\">\n",
       "      <th></th>\n",
       "      <th>Features</th>\n",
       "      <th>VIF</th>\n",
       "    </tr>\n",
       "  </thead>\n",
       "  <tbody>\n",
       "    <tr>\n",
       "      <th>12</th>\n",
       "      <td>Exotic</td>\n",
       "      <td>3.34</td>\n",
       "    </tr>\n",
       "    <tr>\n",
       "      <th>0</th>\n",
       "      <td>Engine HP</td>\n",
       "      <td>2.57</td>\n",
       "    </tr>\n",
       "    <tr>\n",
       "      <th>1</th>\n",
       "      <td>city mpg</td>\n",
       "      <td>2.23</td>\n",
       "    </tr>\n",
       "    <tr>\n",
       "      <th>2</th>\n",
       "      <td>Bentley</td>\n",
       "      <td>1.42</td>\n",
       "    </tr>\n",
       "    <tr>\n",
       "      <th>4</th>\n",
       "      <td>Ferrari</td>\n",
       "      <td>1.37</td>\n",
       "    </tr>\n",
       "    <tr>\n",
       "      <th>7</th>\n",
       "      <td>Maserati</td>\n",
       "      <td>1.37</td>\n",
       "    </tr>\n",
       "    <tr>\n",
       "      <th>5</th>\n",
       "      <td>Lamborghini</td>\n",
       "      <td>1.33</td>\n",
       "    </tr>\n",
       "    <tr>\n",
       "      <th>6</th>\n",
       "      <td>Lotus</td>\n",
       "      <td>1.20</td>\n",
       "    </tr>\n",
       "    <tr>\n",
       "      <th>11</th>\n",
       "      <td>electric</td>\n",
       "      <td>1.19</td>\n",
       "    </tr>\n",
       "    <tr>\n",
       "      <th>10</th>\n",
       "      <td>Rolls-Royce</td>\n",
       "      <td>1.17</td>\n",
       "    </tr>\n",
       "    <tr>\n",
       "      <th>8</th>\n",
       "      <td>Maybach</td>\n",
       "      <td>1.09</td>\n",
       "    </tr>\n",
       "    <tr>\n",
       "      <th>9</th>\n",
       "      <td>Porsche</td>\n",
       "      <td>1.04</td>\n",
       "    </tr>\n",
       "    <tr>\n",
       "      <th>3</th>\n",
       "      <td>Bugatti</td>\n",
       "      <td>1.02</td>\n",
       "    </tr>\n",
       "  </tbody>\n",
       "</table>\n",
       "</div>"
      ],
      "text/plain": [
       "       Features   VIF\n",
       "12       Exotic  3.34\n",
       "0     Engine HP  2.57\n",
       "1      city mpg  2.23\n",
       "2       Bentley  1.42\n",
       "4       Ferrari  1.37\n",
       "7      Maserati  1.37\n",
       "5   Lamborghini  1.33\n",
       "6         Lotus  1.20\n",
       "11     electric  1.19\n",
       "10  Rolls-Royce  1.17\n",
       "8       Maybach  1.09\n",
       "9       Porsche  1.04\n",
       "3       Bugatti  1.02"
      ]
     },
     "execution_count": 31,
     "metadata": {
      "tags": []
     },
     "output_type": "execute_result"
    }
   ],
   "source": [
    "# Calculate the VIFs for the new model\n",
    "from statsmodels.stats.outliers_influence import variance_inflation_factor\n",
    "\n",
    "# Create a dataframe that will contain the names of all the feature variables and their respective VIFs\n",
    "vif = pd.DataFrame()\n",
    "vif['Features'] = X_train_new2.columns\n",
    "vif['VIF'] = [variance_inflation_factor(X_train_new2.values, i) for i in range(X_train_new2.shape[1])]\n",
    "vif['VIF'] = round(vif['VIF'], 2)\n",
    "vif = vif.sort_values(by = \"VIF\", ascending = False)\n",
    "vif"
   ]
  },
  {
   "cell_type": "markdown",
   "metadata": {
    "colab_type": "text",
    "id": "9EvULk_NNVqp"
   },
   "source": [
    "We generally want a VIF that is less than 5.\n",
    "\n",
    "Now as you can see, the VIFs and p-values both are within an acceptable range. So we go ahead and make our predictions using this model only."
   ]
  },
  {
   "cell_type": "markdown",
   "metadata": {
    "colab_type": "text",
    "id": "uSH9i3j7NVqy"
   },
   "source": [
    "## Step 7: Residual Analysis of the train data\n",
    "\n",
    "So, now to check if the error terms are also normally distributed (which is infact, one of the major assumptions of linear regression), let us plot the histogram of the error terms and see what it looks like."
   ]
  },
  {
   "cell_type": "code",
   "execution_count": 0,
   "metadata": {
    "colab": {},
    "colab_type": "code",
    "id": "Klc9bUmANVq1"
   },
   "outputs": [],
   "source": [
    "# fitting model to predict the Y-values of training dataset\n",
    "y_train_price = lm.predict(X_train_lm2)"
   ]
  },
  {
   "cell_type": "code",
   "execution_count": 0,
   "metadata": {
    "colab": {},
    "colab_type": "code",
    "id": "lYek7vgtNVrI",
    "outputId": "809eaa92-fbc1-4c2d-85ce-20be45a6269a"
   },
   "outputs": [
    {
     "data": {
      "text/plain": [
       "Text(0.5, 0, 'Errors')"
      ]
     },
     "execution_count": 33,
     "metadata": {
      "tags": []
     },
     "output_type": "execute_result"
    },
    {
     "data": {
      "image/png": "[encoded data removed]",
      "text/plain": [
       "<Figure size 432x288 with 1 Axes>"
      ]
     },
     "metadata": {
      "needs_background": "light",
      "tags": []
     },
     "output_type": "display_data"
    }
   ],
   "source": [
    "# Error term should be normally distributed along mean zero for a stable model\n",
    "\n",
    "fig = plt.figure()\n",
    "sns.distplot((y_train - y_train_price), bins = 20)\n",
    "fig.suptitle('Error Terms', fontsize = 20)                  # Plot heading \n",
    "plt.xlabel('Errors', fontsize = 18)     "
   ]
  },
  {
   "cell_type": "markdown",
   "metadata": {
    "colab_type": "text",
    "id": "Dra9WSJENVrX"
   },
   "source": [
    "Since Error term is normally distributed along mean zero hence it is a stable model."
   ]
  },
  {
   "cell_type": "markdown",
   "metadata": {
    "colab_type": "text",
    "id": "L_y3v88MNVra"
   },
   "source": [
    "## Step 8: Making Predictions Using the Final Model\n",
    "\n",
    "Now that we have fitted the model and checked the normality of error terms, it's time to go ahead and make predictions using the final model.\n",
    "\n",
    "#### Applying the scaling on the test sets"
   ]
  },
  {
   "cell_type": "code",
   "execution_count": 0,
   "metadata": {
    "colab": {},
    "colab_type": "code",
    "id": "x5POVsUKNVrd"
   },
   "outputs": [],
   "source": [
    "df_test[num_vars] = scaler.transform(df_test[num_vars])"
   ]
  },
  {
   "cell_type": "markdown",
   "metadata": {
    "colab_type": "text",
    "id": "jViCvD9TNVrn"
   },
   "source": [
    "#### Dividing into x_test and y_test"
   ]
  },
  {
   "cell_type": "code",
   "execution_count": 0,
   "metadata": {
    "colab": {},
    "colab_type": "code",
    "id": "VqlSWRxNNVrx"
   },
   "outputs": [],
   "source": [
    "y_test = df_test.pop('MSRP')\n",
    "X_test = df_test"
   ]
  },
  {
   "cell_type": "code",
   "execution_count": 0,
   "metadata": {
    "colab": {},
    "colab_type": "code",
    "id": "lLdRGWNONVsr"
   },
   "outputs": [],
   "source": [
    "# Now let's use our model to make predictions.\n",
    "\n",
    "# Creating X_test_new dataframe by dropping variables from X_test\n",
    "X_test_new2 = X_test[X_train_new2.columns]\n",
    "\n",
    "# Adding a constant variable \n",
    "X_test_new_lm2 = sm.add_constant(X_test_new2)"
   ]
  },
  {
   "cell_type": "code",
   "execution_count": 0,
   "metadata": {
    "colab": {},
    "colab_type": "code",
    "id": "nO6S5eyxNVs1"
   },
   "outputs": [],
   "source": [
    "# Making predictions\n",
    "y_pred = lm.predict(X_test_new_lm2)"
   ]
  },
  {
   "cell_type": "markdown",
   "metadata": {
    "colab_type": "text",
    "id": "344xYLilNVtV"
   },
   "source": [
    "## Step 9: Model Evaluation\n",
    "\n",
    "Let's now plot the graph for actual versus predicted values."
   ]
  },
  {
   "cell_type": "code",
   "execution_count": 0,
   "metadata": {
    "colab": {},
    "colab_type": "code",
    "id": "FAvASvB8NVta",
    "outputId": "25add5d8-253a-4666-9b1d-428ee04ae720"
   },
   "outputs": [
    {
     "data": {
      "text/plain": [
       "Text(0, 0.5, 'y_pred')"
      ]
     },
     "execution_count": 38,
     "metadata": {
      "tags": []
     },
     "output_type": "execute_result"
    },
    {
     "data": {
      "image/png": "[encoded data removed]",
      "text/plain": [
       "<Figure size 432x288 with 1 Axes>"
      ]
     },
     "metadata": {
      "needs_background": "light",
      "tags": []
     },
     "output_type": "display_data"
    }
   ],
   "source": [
    "# Plotting y_test and y_pred to understand the spread.\n",
    "fig = plt.figure()\n",
    "plt.scatter(y_test,y_pred)\n",
    "fig.suptitle('y_test vs y_pred', fontsize=20)              # Plot heading \n",
    "plt.xlabel('y_test', fontsize=18)                          # X-label\n",
    "plt.ylabel('y_pred', fontsize=16)  "
   ]
  },
  {
   "cell_type": "markdown",
   "metadata": {
    "colab_type": "text",
    "id": "42VyVoiwNVtm"
   },
   "source": [
    "Since there is no pattern found in the error of Y-pred and Y_test and it is scattered randomly so it is giving good prediction value."
   ]
  },
  {
   "cell_type": "markdown",
   "metadata": {
    "colab_type": "text",
    "id": "R4pTOFx0NVtt"
   },
   "source": [
    "We can see that the equation of our best fitted line is:\n",
    "   $ y = -0.0116 + (Engine HP * 0.1070) + (city mpg * 0.0614) + (Bentley * 0.0187) + (Bugatti * 0.7180) + (Ferrari * 0.0221) + (Lamborghini * 0.0538) + (Lotus * -0.0354) + (Maserati * -0.0255) + (Maybach * 0.1536) + (Porsche * 0.0158) + (Rolls-Royce * 0.0797) + (electric * -0.0395) + (Exotic * 0.0495) $"
   ]
  },
  {
   "cell_type": "code",
   "execution_count": 0,
   "metadata": {
    "colab": {},
    "colab_type": "code",
    "id": "iIcppnyHNVt8"
   },
   "outputs": [],
   "source": [
    "# import mean squared error\n",
    "from sklearn.metrics import mean_squared_error\n",
    "from sklearn.metrics import r2_score"
   ]
  },
  {
   "cell_type": "code",
   "execution_count": 0,
   "metadata": {
    "colab": {},
    "colab_type": "code",
    "id": "N1_Eh34DNVuG",
    "outputId": "0d18a428-632b-46e1-9f12-830274662259"
   },
   "outputs": [
    {
     "data": {
      "text/plain": [
       "0.014339753815373793"
      ]
     },
     "execution_count": 40,
     "metadata": {
      "tags": []
     },
     "output_type": "execute_result"
    }
   ],
   "source": [
    "#Returns the mean squared error; we'll take a square root\n",
    "np.sqrt(mean_squared_error(y_test, y_pred))"
   ]
  },
  {
   "cell_type": "code",
   "execution_count": 0,
   "metadata": {
    "colab": {},
    "colab_type": "code",
    "id": "nEWGV0XeNVuV",
    "outputId": "57ceb567-c30a-4675-d21a-ade924ed9e14"
   },
   "outputs": [
    {
     "data": {
      "text/plain": [
       "0.8413970142463679"
      ]
     },
     "execution_count": 41,
     "metadata": {
      "tags": []
     },
     "output_type": "execute_result"
    }
   ],
   "source": [
    "# getting R-squared value\n",
    "r_squared = r2_score(y_test, y_pred)\n",
    "r_squared"
   ]
  },
  {
   "cell_type": "markdown",
   "metadata": {
    "colab_type": "text",
    "id": "Wxrp-aQbNVuk"
   },
   "source": [
    "## BenchMark Model (Simple Linear Regression) using 'Engine HP' as feature variable"
   ]
  },
  {
   "cell_type": "code",
   "execution_count": 0,
   "metadata": {
    "colab": {},
    "colab_type": "code",
    "id": "jVles8aUNVuo"
   },
   "outputs": [],
   "source": [
    "# creating X and y from training dataset\n",
    "X = CarPriceCleanDf['Engine HP']\n",
    "y = CarPriceCleanDf['MSRP']"
   ]
  },
  {
   "cell_type": "code",
   "execution_count": 0,
   "metadata": {
    "colab": {},
    "colab_type": "code",
    "id": "PD54xQu6NVuy"
   },
   "outputs": [],
   "source": [
    "# import train_test_split\n",
    "from sklearn.model_selection import train_test_split\n",
    "\n",
    "# We specify this so that the train and test data set always have the same rows, respectively\n",
    "np.random.seed(0)\n",
    "\n",
    "# splitting train and test dataset for model\n",
    "\n",
    "X_train, X_test, y_train, y_test = train_test_split(X, y, train_size = 0.7, test_size = 0.3, random_state = 100)"
   ]
  },
  {
   "cell_type": "code",
   "execution_count": 0,
   "metadata": {
    "colab": {},
    "colab_type": "code",
    "id": "kPAXuj_MNVvC",
    "outputId": "d8b399fe-f4ce-4ac0-a332-f470a0c54d3b"
   },
   "outputs": [
    {
     "name": "stdout",
     "output_type": "stream",
     "text": [
      "                            OLS Regression Results                            \n",
      "==============================================================================\n",
      "Dep. Variable:                   MSRP   R-squared:                       0.431\n",
      "Model:                            OLS   Adj. R-squared:                  0.431\n",
      "Method:                 Least Squares   F-statistic:                     4287.\n",
      "Date:                Mon, 25 Mar 2019   Prob (F-statistic):               0.00\n",
      "Time:                        18:59:31   Log-Likelihood:                -69429.\n",
      "No. Observations:                5658   AIC:                         1.389e+05\n",
      "Df Residuals:                    5656   BIC:                         1.389e+05\n",
      "Df Model:                           1                                         \n",
      "Covariance Type:            nonrobust                                         \n",
      "==============================================================================\n",
      "                 coef    std err          t      P>|t|      [0.025      0.975]\n",
      "------------------------------------------------------------------------------\n",
      "const      -5.833e+04   1778.396    -32.797      0.000   -6.18e+04   -5.48e+04\n",
      "Engine HP    392.8398      6.000     65.478      0.000     381.078     404.601\n",
      "==============================================================================\n",
      "Omnibus:                    10898.177   Durbin-Watson:                   2.028\n",
      "Prob(Omnibus):                  0.000   Jarque-Bera (JB):         36907915.308\n",
      "Skew:                          14.740   Prob(JB):                         0.00\n",
      "Kurtosis:                     397.571   Cond. No.                         768.\n",
      "==============================================================================\n",
      "\n",
      "Warnings:\n",
      "[1] Standard Errors assume that the covariance matrix of the errors is correctly specified.\n"
     ]
    }
   ],
   "source": [
    "# Add a constant to get an intercept\n",
    "X_train_sm = sm.add_constant(X_train)\n",
    "\n",
    "# Fit the resgression line using 'OLS'\n",
    "lr = sm.OLS(y_train, X_train_sm).fit()\n",
    "\n",
    "# get the model summary\n",
    "print(lr.summary())"
   ]
  },
  {
   "cell_type": "markdown",
   "metadata": {
    "colab_type": "text",
    "id": "omDA475JNVvh"
   },
   "source": [
    "For Simple Linear Refression model. here are the out comes.\n",
    "\n",
    "- R-Squared value is  0.43, which is not good enough to make predictions.\n",
    "- AIC and BIC are higher value(positive).\n",
    "- Constant value is very large in negative value.\n",
    "\n",
    "Hence SLR is not as good as MLR."
   ]
  },
  {
   "cell_type": "code",
   "execution_count": 0,
   "metadata": {
    "colab": {},
    "colab_type": "code",
    "id": "YIPMuB8vNVvm"
   },
   "outputs": [],
   "source": [
    "# fitting model to predict the training value and get the residual\n",
    "\n",
    "y_train_pred = lr.predict(X_train_sm)\n",
    "res = (y_train - y_train_pred)"
   ]
  },
  {
   "cell_type": "code",
   "execution_count": 0,
   "metadata": {
    "colab": {},
    "colab_type": "code",
    "id": "e3RZPLa2NVvw",
    "outputId": "06babc7f-03cb-4ca2-82f8-3a083fbd224d"
   },
   "outputs": [
    {
     "data": {
      "image/png": "[encoded data removed]",
      "text/plain": [
       "<Figure size 432x288 with 1 Axes>"
      ]
     },
     "metadata": {
      "needs_background": "light",
      "tags": []
     },
     "output_type": "display_data"
    }
   ],
   "source": [
    "# Error term should be normally distributed along mean zero for a stable model\n",
    "\n",
    "fig = plt.figure()\n",
    "sns.distplot(res, bins = 15)\n",
    "fig.suptitle('Error Terms', fontsize = 15)                  # Plot heading \n",
    "plt.xlabel('y_train - y_train_pred', fontsize = 15)         # X-label\n",
    "plt.show()"
   ]
  },
  {
   "cell_type": "markdown",
   "metadata": {
    "colab_type": "text",
    "id": "RSNvpaklNVv-"
   },
   "source": [
    "Since Error Term is not Normally distributed along mean zero hence it is not a good model."
   ]
  },
  {
   "cell_type": "code",
   "execution_count": 0,
   "metadata": {
    "colab": {},
    "colab_type": "code",
    "id": "om_zM0sBNVwH",
    "outputId": "bc97f600-dec8-42dd-dcd8-1803f39920dd"
   },
   "outputs": [
    {
     "data": {
      "image/png": "[encoded data removed]",
      "text/plain": [
       "<Figure size 432x288 with 1 Axes>"
      ]
     },
     "metadata": {
      "needs_background": "light",
      "tags": []
     },
     "output_type": "display_data"
    }
   ],
   "source": [
    "# Drawing scatter plot of residuals\n",
    "\n",
    "plt.scatter(X_train,res)\n",
    "plt.show()"
   ]
  },
  {
   "cell_type": "markdown",
   "metadata": {
    "colab_type": "text",
    "id": "4w-yOUbMNVwT"
   },
   "source": [
    "As we can see, there is a curve like pattern in the residuals scatter plot, hence we can improve it by adding more features as we have done in multiple linear regression."
   ]
  },
  {
   "cell_type": "code",
   "execution_count": 0,
   "metadata": {
    "colab": {},
    "colab_type": "code",
    "id": "pXDG_eWWNVwW"
   },
   "outputs": [],
   "source": [
    "# Add a constant to X_test\n",
    "X_test_sm = sm.add_constant(X_test)\n",
    "\n",
    "# Predict the y values corresponding to X_test_sm\n",
    "y_pred = lr.predict(X_test_sm)"
   ]
  },
  {
   "cell_type": "code",
   "execution_count": 0,
   "metadata": {
    "colab": {},
    "colab_type": "code",
    "id": "lnyEWUKKNVwi",
    "outputId": "f3d47e42-2c93-4905-e2dc-1c1e675343e6"
   },
   "outputs": [
    {
     "data": {
      "text/plain": [
       "56118.556554044655"
      ]
     },
     "execution_count": 49,
     "metadata": {
      "tags": []
     },
     "output_type": "execute_result"
    }
   ],
   "source": [
    "#Returns the mean squared error; we'll take a square root\n",
    "np.sqrt(mean_squared_error(y_test, y_pred))"
   ]
  },
  {
   "cell_type": "markdown",
   "metadata": {
    "colab_type": "text",
    "id": "IFsaGCAnNVwt"
   },
   "source": [
    "As MSE error is very large, it is giving more errors while predictions."
   ]
  },
  {
   "cell_type": "code",
   "execution_count": 0,
   "metadata": {
    "colab": {},
    "colab_type": "code",
    "id": "_oLH22fsNVww",
    "outputId": "86817e48-9a41-48e4-8389-98e854a52013"
   },
   "outputs": [
    {
     "data": {
      "text/plain": [
       "0.4297532643739679"
      ]
     },
     "execution_count": 50,
     "metadata": {
      "tags": []
     },
     "output_type": "execute_result"
    }
   ],
   "source": [
    "# get R-squared value\n",
    "r_squared = r2_score(y_test, y_pred)\n",
    "r_squared"
   ]
  },
  {
   "cell_type": "markdown",
   "metadata": {
    "colab_type": "text",
    "id": "dCRVH4DWNVw4"
   },
   "source": [
    "### Conclusion\n",
    "R-squared value for\n",
    "    - Multiple Linear Regression: `0.814`\n",
    "    - Linear Regression: `0.429`\n",
    "\n",
    "Overall we have a decent model, but we also acknowledge that we could do better. \n",
    "\n",
    "We have below option to get more accurate:\n",
    "1. Build a non-linear model"
   ]
  }
 ],
 "metadata": {
  "colab": {
   "name": "SanjogUdacityAssignment.ipynb",
   "provenance": []
  },
  "kernelspec": {
   "display_name": "Python 3",
   "language": "python",
   "name": "python3"
  },
  "language_info": {
   "codemirror_mode": {
    "name": "ipython",
    "version": 3
   },
   "file_extension": ".py",
   "mimetype": "text/x-python",
   "name": "python",
   "nbconvert_exporter": "python",
   "pygments_lexer": "ipython3",
   "version": "3.6.5"
  }
 },
 "nbformat": 4,
 "nbformat_minor": 1
}
